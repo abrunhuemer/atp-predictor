{
 "cells": [
  {
   "cell_type": "code",
   "execution_count": 57,
   "id": "familiar-serve",
   "metadata": {},
   "outputs": [],
   "source": [
    "import os\n",
    "from six.moves import urllib\n",
    "import numpy as np\n",
    "import datetime\n",
    "\n",
    "DOWNLOAD_ROOT = \"https://raw.githubusercontent.com/JeffSackmann/tennis_atp/master/\"\n",
    "ATP_PATH = \"ATP\"\n",
    "FILE_PREFIX_ATP = \"atp_matches_\"\n",
    "START_YEAR = 1997\n",
    "\n",
    "YEARS = np.arange(START_YEAR,datetime.datetime.now().year + 1)\n",
    "\n",
    "def fetch_atp_data(download_root = DOWNLOAD_ROOT, save_path = ATP_PATH):\n",
    "    if not os.path.isdir(save_path):\n",
    "        os.makedirs(save_path)\n",
    "    \n",
    "    for year in YEARS:\n",
    "        file = FILE_PREFIX_ATP + str(year) + \".csv\"\n",
    "        file_path = os.path.join(save_path, file)\n",
    "        urllib.request.urlretrieve(download_root + file, file_path)\n",
    "    "
   ]
  },
  {
   "cell_type": "code",
   "execution_count": 58,
   "id": "former-guatemala",
   "metadata": {},
   "outputs": [],
   "source": [
    "fetch_atp_data()"
   ]
  },
  {
   "cell_type": "code",
   "execution_count": null,
   "id": "central-russian",
   "metadata": {},
   "outputs": [],
   "source": []
  }
 ],
 "metadata": {
  "kernelspec": {
   "display_name": "Python 3",
   "language": "python",
   "name": "python3"
  },
  "language_info": {
   "codemirror_mode": {
    "name": "ipython",
    "version": 3
   },
   "file_extension": ".py",
   "mimetype": "text/x-python",
   "name": "python",
   "nbconvert_exporter": "python",
   "pygments_lexer": "ipython3",
   "version": "3.9.2"
  }
 },
 "nbformat": 4,
 "nbformat_minor": 5
}
