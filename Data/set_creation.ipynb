{
 "cells": [
  {
   "cell_type": "code",
   "execution_count": null,
   "id": "million-animal",
   "metadata": {},
   "outputs": [],
   "source": [
    "dropColumns = ['match_num', 'winner_id', 'loser_id', 'winner_rank_points', 'loser_rank_points', 'tourney_name', 'tourney_id','winner_name', 'winner_ioc', 'loser_name', 'loser_ioc', 'score', 'w_SvGms', 'l_SvGms']\n"
   ]
  }
 ],
 "metadata": {
  "kernelspec": {
   "display_name": "Python 3",
   "language": "python",
   "name": "python3"
  },
  "language_info": {
   "codemirror_mode": {
    "name": "ipython",
    "version": 3
   },
   "file_extension": ".py",
   "mimetype": "text/x-python",
   "name": "python",
   "nbconvert_exporter": "python",
   "pygments_lexer": "ipython3",
   "version": "3.9.2"
  }
 },
 "nbformat": 4,
 "nbformat_minor": 5
}
